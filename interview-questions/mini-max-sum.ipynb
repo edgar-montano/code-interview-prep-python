{
 "cells": [
  {
   "cell_type": "markdown",
   "metadata": {},
   "source": [
    "# Problem\n",
    "\n",
    "*Given five positive integers, find the minimum and maximum values that can be calculated by summing exactly four of the five integers. Then print the respective minimum and maximum values as a single line of two space-separated long integers.*\n",
    "\n",
    "\n",
    "\n",
    "\n",
    "## Example \n",
    "\n",
    "Input: `arr = [1,3,5,7,9]`\n",
    "\n",
    "The minimum sum is: \n",
    "`1 + 3 + 5 + 7 = 16`\n",
    "\n",
    "The maximum sum is:\n",
    "`3 + 5 + 7  + 9 = 24`\n",
    "\n",
    "\n",
    "## Function Description\n",
    "\n",
    "Complete the miniMaxSum function in the editor below.\n",
    "\n",
    "miniMaxSum has the following parameter(s):\n",
    "\n",
    "arr: an array of 5 integers\n",
    "\n",
    "### Print \n",
    "two space-separated integers on one line: the minimum sum and the maximum sum of  of  elements.\n",
    "\n",
    "### Input Format\n",
    "\n",
    "A single line of **five** space-separated integers.\n",
    "\n",
    "### Constraints\n",
    "1 <= arr[i] <= 10^9 \n",
    "\n",
    "### Output Format\n",
    "\n",
    "Print two space-separated long integers denoting the respective minimum and maximum values that can be calculated by summing exactly **four** of the *five* integers. (The output can be greater than a 32 bit integer.)\n",
    "\n",
    "### Sample Input \n",
    "`1 2 3 4 5`\n",
    "\n",
    "### Sample Output\n",
    "`10 14`\n",
    "\n",
    "\n",
    "### Explanation \n",
    "\n",
    "The numbers are 1, 2, 3, 4, and 5. Calculate the following sums using four of the five integers:\n",
    "\n",
    "Sum everything except 1, the sum is 2 + 3 + 4 + 5 = 14.\n",
    "Sum everything except 2, the sum is 1 + 3 + 4 + 5 = 13.\n",
    "Sum everything except 3, the sum is 1 + 2 + 4 + 5 = 12.\n",
    "Sum everything except 4, the sum is 1 + 2 + 3 + 5 = 11.\n",
    "Sum everything except 5, the sum is 1 + 2 + 3 + 4 = 10.\n",
    "\n",
    "### Hints \n",
    "**Hints: Beware of integer overflow! Use 64-bit Integer.**"
   ]
  },
  {
   "cell_type": "code",
   "execution_count": 135,
   "metadata": {},
   "outputs": [
    {
     "name": "stdout",
     "output_type": "stream",
     "text": [
      "11110 1000011100\n"
     ]
    }
   ],
   "source": [
    "#!/bin/python3\n",
    "\n",
    "import math\n",
    "import os\n",
    "import random\n",
    "import re\n",
    "import sys\n",
    "\n",
    "#\n",
    "# Complete the 'miniMaxSum' function below.\n",
    "#\n",
    "# The function accepts INTEGER_ARRAY arr as parameter.\n",
    "#\n",
    "\n",
    "def miniMaxSum(arr):\n",
    "  \"\"\"miniMaxSum using library calls to sort and do summation. \n",
    "  Args:\n",
    "      arr (int): arr of 5 integers \n",
    "      \n",
    "  \"\"\"\n",
    "  # sort array, this means that the smallest elements will be first\n",
    "  # largest elements would be last \n",
    "  arr.sort()\n",
    "  s = sum(arr)\n",
    "  max = s - arr[0]\n",
    "  min = s - arr[len(arr) - 1]\n",
    "  print(min,max)\n",
    "\n",
    "\n",
    "def miniMaxSum(arr):\n",
    "  arr.sort()\n",
    "  s = sum(arr)\n",
    "  max = arr[1:]\n",
    "  min = arr[:4]\n",
    "  print(min, max)\n",
    "\n",
    "def miniMaxSum(arr):\n",
    "  \"\"\"MiniMax solution with no additional library calls (not optimal).\n",
    "  Big O(n^2)\n",
    "\n",
    "  Args:\n",
    "      arr (int): arr of 5 integers \n",
    "  \"\"\"\n",
    "  min, max = 0, 0  \n",
    "  for i in range(len(arr)): \n",
    "    sum = 0 \n",
    "    solution = []\n",
    "    for j in range(len(arr)):\n",
    "      # check to see if arr[i] != arr[j]\n",
    "      # if arr[i] is not arr[j]: doesnt work, is tests for same object\n",
    "      if arr[i] != arr[j]:\n",
    "        sum += arr[j]\n",
    "    \n",
    "    if sum <= min or min == 0:\n",
    "      min = sum\n",
    "    if sum >= max or max == 0:\n",
    "      max = sum \n",
    "  print(min,max)\n",
    "     \n",
    "\n",
    "def miniMaxSum(arr):\n",
    "  arr.sort() # note it mutates the array in place\n",
    "  print(int(sum(arr[:4])), int(sum(arr[1:])))\n",
    "  \n",
    "\n",
    "\n",
    "\n",
    "\n",
    "if __name__ == '__main__':\n",
    "\n",
    "  # arr = list(map(int, input().rstrip().split()))\n",
    "  # arr = [5,2,3,4,1]\n",
    "  arr = [10**9, 10**2, 10**4, 10**3, 10]\n",
    "  # arr = [1,1,1, 1, 1]\n",
    "  miniMaxSum(arr)\n"
   ]
  },
  {
   "cell_type": "code",
   "execution_count": 136,
   "metadata": {},
   "outputs": [
    {
     "name": "stdout",
     "output_type": "stream",
     "text": [
      "5\n"
     ]
    }
   ],
   "source": [
    "min = 5\n",
    "max = None\n",
    "if(min is not None): \n",
    "  min = 5 \n",
    "  print(min)"
   ]
  }
 ],
 "metadata": {
  "kernelspec": {
   "display_name": "Python 3.10.5 64-bit",
   "language": "python",
   "name": "python3"
  },
  "language_info": {
   "codemirror_mode": {
    "name": "ipython",
    "version": 3
   },
   "file_extension": ".py",
   "mimetype": "text/x-python",
   "name": "python",
   "nbconvert_exporter": "python",
   "pygments_lexer": "ipython3",
   "version": "3.10.5"
  },
  "orig_nbformat": 4,
  "vscode": {
   "interpreter": {
    "hash": "02b609bbcdd864eb197a8e44871ca339be22f8bca8c512160584e8c1631bb079"
   }
  }
 },
 "nbformat": 4,
 "nbformat_minor": 2
}
