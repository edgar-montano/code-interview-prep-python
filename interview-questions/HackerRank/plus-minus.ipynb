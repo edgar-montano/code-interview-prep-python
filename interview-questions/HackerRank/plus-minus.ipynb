{
 "cells": [
  {
   "cell_type": "markdown",
   "metadata": {},
   "source": [
    "# Plus Minus \n",
    "[HackerRank - Plus Minus](https://www.hackerrank.com/challenges/one-week-preparation-kit-plus-minus/problem?isFullScreen=true&h_l=interview&playlist_slugs%5B%5D=preparation-kits&playlist_slugs%5B%5D=one-week-preparation-kit&playlist_slugs%5B%5D=one-week-day-one)\n",
    "\n",
    "\n",
    "## Problem\n",
    "Given an array of integers, calculate the ratios of its elements that are positive, negative, and zero. Print the decimal value of each fraction on a new line with  places after the decimal.\n",
    "\n",
    "*Note: This challenge introduces precision problems. The test cases are scaled to six decimal places, though answers with absolute error of up to  are acceptable.*\n",
    "\n",
    "## Example\n",
    "$arr = [1,1,0,-1,-1]$\n",
    "\n",
    "There are  $n=5$ elements, two positive, two negative and one zero.\n",
    "Their ratios are \n",
    "$2/5=0.4$,\n",
    "$2/5=0.4$  \n",
    "and $1/5=0.2$. \n",
    "\n",
    "Results are printed as:\n",
    "```\n",
    "0.400000\n",
    "0.400000\n",
    "0.200000\n",
    "```\n",
    "\n",
    "## Problem Specs \n",
    "\n",
    "### Function Description \n",
    "Complete the plusMinus function in the editor below.\n",
    "\n",
    "plusMinus has the following parameter(s):\n",
    "\n",
    "int arr[n]: an array of integers\n",
    "\n",
    "\n",
    "### Print\n",
    "Print the ratios of positive, negative and zero values in the array. Each value should be printed on a separate line with  digits after the decimal. The function should not return a value.\n",
    "\n",
    "### Input Format\n",
    "\n",
    "The first line contains an integer, , the size of the array.\n",
    "The second line contains  space-separated integers that describe .\n",
    "\n",
    "\n",
    "### Sample Input \n"
   ]
  },
  {
   "cell_type": "code",
   "execution_count": 9,
   "metadata": {},
   "outputs": [
    {
     "name": "stdout",
     "output_type": "stream",
     "text": [
      "0.500000\n"
     ]
    },
    {
     "ename": "AttributeError",
     "evalue": "'str' object has no attribute 'neg'",
     "output_type": "error",
     "traceback": [
      "\u001b[1;31m---------------------------------------------------------------------------\u001b[0m",
      "\u001b[1;31mAttributeError\u001b[0m                            Traceback (most recent call last)",
      "\u001b[1;32mc:\\code\\__interview__\\code-interview-prep-python\\interview-questions\\HackerRank\\plus-minus.ipynb Cell 2\u001b[0m in \u001b[0;36m<cell line: 32>\u001b[1;34m()\u001b[0m\n\u001b[0;32m     <a href='vscode-notebook-cell:/c%3A/code/__interview__/code-interview-prep-python/interview-questions/HackerRank/plus-minus.ipynb#ch0000001?line=31'>32</a>\u001b[0m \u001b[39mif\u001b[39;00m \u001b[39m__name__\u001b[39m \u001b[39m==\u001b[39m \u001b[39m'\u001b[39m\u001b[39m__main__\u001b[39m\u001b[39m'\u001b[39m:\n\u001b[0;32m     <a href='vscode-notebook-cell:/c%3A/code/__interview__/code-interview-prep-python/interview-questions/HackerRank/plus-minus.ipynb#ch0000001?line=32'>33</a>\u001b[0m     \u001b[39m# n = int(input().strip())\u001b[39;00m\n\u001b[0;32m     <a href='vscode-notebook-cell:/c%3A/code/__interview__/code-interview-prep-python/interview-questions/HackerRank/plus-minus.ipynb#ch0000001?line=33'>34</a>\u001b[0m \n\u001b[0;32m     <a href='vscode-notebook-cell:/c%3A/code/__interview__/code-interview-prep-python/interview-questions/HackerRank/plus-minus.ipynb#ch0000001?line=34'>35</a>\u001b[0m     \u001b[39m# arr = list(map(int, input().rstrip().split()))\u001b[39;00m\n\u001b[0;32m     <a href='vscode-notebook-cell:/c%3A/code/__interview__/code-interview-prep-python/interview-questions/HackerRank/plus-minus.ipynb#ch0000001?line=35'>36</a>\u001b[0m     arr \u001b[39m=\u001b[39m [\u001b[39m-\u001b[39m\u001b[39m4\u001b[39m,\u001b[39m3\u001b[39m,\u001b[39m-\u001b[39m\u001b[39m9\u001b[39m, \u001b[39m0\u001b[39m, \u001b[39m4\u001b[39m, \u001b[39m1\u001b[39m]\n\u001b[1;32m---> <a href='vscode-notebook-cell:/c%3A/code/__interview__/code-interview-prep-python/interview-questions/HackerRank/plus-minus.ipynb#ch0000001?line=36'>37</a>\u001b[0m     plusMinus(arr)\n",
      "\u001b[1;32mc:\\code\\__interview__\\code-interview-prep-python\\interview-questions\\HackerRank\\plus-minus.ipynb Cell 2\u001b[0m in \u001b[0;36mplusMinus\u001b[1;34m(arr)\u001b[0m\n\u001b[0;32m     <a href='vscode-notebook-cell:/c%3A/code/__interview__/code-interview-prep-python/interview-questions/HackerRank/plus-minus.ipynb#ch0000001?line=24'>25</a>\u001b[0m     \u001b[39melse\u001b[39;00m: zero \u001b[39m+\u001b[39m\u001b[39m=\u001b[39m \u001b[39m1\u001b[39m\n\u001b[0;32m     <a href='vscode-notebook-cell:/c%3A/code/__interview__/code-interview-prep-python/interview-questions/HackerRank/plus-minus.ipynb#ch0000001?line=25'>26</a>\u001b[0m \u001b[39mprint\u001b[39m(\u001b[39m\"\u001b[39m\u001b[39m{:.6f}\u001b[39;00m\u001b[39m\"\u001b[39m\u001b[39m.\u001b[39mformat(pos\u001b[39m/\u001b[39mn)) \n\u001b[1;32m---> <a href='vscode-notebook-cell:/c%3A/code/__interview__/code-interview-prep-python/interview-questions/HackerRank/plus-minus.ipynb#ch0000001?line=26'>27</a>\u001b[0m \u001b[39mprint\u001b[39m(\u001b[39m\"\u001b[39;49m\u001b[39m{:.6f}\u001b[39;49;00m\u001b[39m\"\u001b[39;49m\u001b[39m.\u001b[39;49mneg\u001b[39m/\u001b[39mn)\n\u001b[0;32m     <a href='vscode-notebook-cell:/c%3A/code/__interview__/code-interview-prep-python/interview-questions/HackerRank/plus-minus.ipynb#ch0000001?line=27'>28</a>\u001b[0m \u001b[39mprint\u001b[39m(zero\u001b[39m/\u001b[39mn)\n",
      "\u001b[1;31mAttributeError\u001b[0m: 'str' object has no attribute 'neg'"
     ]
    }
   ],
   "source": [
    "#!/bin/python3\n",
    "\n",
    "import math\n",
    "import os\n",
    "import random\n",
    "import re\n",
    "import sys\n",
    "\n",
    "#\n",
    "# Complete the 'plusMinus' function below.\n",
    "# \n",
    "# The function accepts INTEGER_ARRAY arr as parameter.\n",
    "#\n",
    "\n",
    "# get # of pos\n",
    "# get # of neg\n",
    "# get # of zero\n",
    "\n",
    "def plusMinus(arr):\n",
    "    pos, neg, zero = 0,0,0 \n",
    "    n = len(arr)\n",
    "    for i in range(n):\n",
    "        if arr[i]> 0: pos += 1  \n",
    "        elif arr[i]<0: neg+= 1\n",
    "        else: zero += 1\n",
    "    print(\"{:.6f}\".format(pos/n)) \n",
    "    print(\"{:.6f}\".format(neg/n))\n",
    "    print(\"{:.6f}\".format(zero/n))\n",
    "    #calculate ratio that are positive, negative and zero. \n",
    "    # Write your code here\n",
    "\n",
    "if __name__ == '__main__':\n",
    "    # n = int(input().strip())\n",
    "\n",
    "    # arr = list(map(int, input().rstrip().split()))\n",
    "    arr = [-4,3,-9, 0, 4, 1]\n",
    "    plusMinus(arr)"
   ]
  }
 ],
 "metadata": {
  "kernelspec": {
   "display_name": "Python 3.10.5 64-bit",
   "language": "python",
   "name": "python3"
  },
  "language_info": {
   "codemirror_mode": {
    "name": "ipython",
    "version": 3
   },
   "file_extension": ".py",
   "mimetype": "text/x-python",
   "name": "python",
   "nbconvert_exporter": "python",
   "pygments_lexer": "ipython3",
   "version": "3.10.5"
  },
  "orig_nbformat": 4,
  "vscode": {
   "interpreter": {
    "hash": "02b609bbcdd864eb197a8e44871ca339be22f8bca8c512160584e8c1631bb079"
   }
  }
 },
 "nbformat": 4,
 "nbformat_minor": 2
}
