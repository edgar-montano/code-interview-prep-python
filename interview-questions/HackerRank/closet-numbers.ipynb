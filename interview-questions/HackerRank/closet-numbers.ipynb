{
 "cells": [
  {
   "cell_type": "markdown",
   "metadata": {},
   "source": [
    "# Closest Numbers\n",
    "\n",
    "Sorting is useful as the first step in many different tasks. The most common task is to make finding things easier, but there are other uses as well. In this case, it will make it easier to determine which pair or pairs of elements have the smallest absolute difference between them.\n",
    "\n",
    "# Examples\n",
    "\n",
    "$arr = [5,2,3,4,1]$\n",
    "\n",
    "Sorted $arr=[1,2,3,4,5]$  \n",
    "Several pairs have the minimum difference of 1: . $[(1,2), (2,3), (3,4), (4,5)]$ Return the array [1,2,2,3,3,4,4,5] .\n",
    "\n",
    "# Note\n",
    "\n",
    "As shown in the example, pairs may overlap.\n",
    "\n",
    "Given a list of unsorted integers, `arr`, find the pair of elements that have the smallest absolute difference between them. If there are multiple pairs, find them all.\n",
    "\n",
    "# Function Description\n",
    "\n",
    "Complete the closestNumbers function in the editor below.\n",
    "\n",
    "closestNumbers has the following parameter(s):\n",
    "\n",
    "int arr[n]: an array of integers\n",
    "\n",
    "## Returns\n",
    "\n",
    "- int[]: an array of integers as described\n",
    "\n",
    "## Input Format\n",
    "\n",
    "The first line contains a single integer n, the length of arr.\n",
    "The second line contains $n$ space-separated integers, $arr[i]$.\n",
    "\n",
    "## Constraints\n",
    "\n",
    "$2 <= n <= 200,000$\n",
    "$ -10^7 <=  arr[i] <= 10^7$\n",
    "$ all a[i] are unique in arr$\n",
    "\n",
    "# Samples / Test\n",
    "\n",
    "## Sample Input 0\n",
    "\n",
    "```10\n",
    "-20 -3916237 -357920 -3620601 7374819 -7330761 30 6246457 -6461594 266854\n",
    "```\n",
    "\n",
    "## Sample Output 0\n",
    "\n",
    "```\n",
    "-20 30\n",
    "```\n",
    "\n",
    "## Explanation 0\n",
    "\n",
    "(30) - (-20) = 50, which is the smallest difference.\n",
    "\n",
    "## Sample Input 1\n",
    "\n",
    "12\n",
    "-20 -3916237 -357920 -3620601 7374819 -7330761 30 6246457 -6461594 266854 -520 -470\n",
    "\n",
    "## Sample Output 1\n",
    "\n",
    "-520 -470 -20 30\n",
    "\n",
    "## Explanation 1\n",
    "\n",
    "(-470) - (-520) = 30 - (-20) = 50, which is the smallest difference.\n",
    "\n",
    "## Sample Input 2\n",
    "\n",
    "4\n",
    "5 4 3 2\n",
    "\n",
    "## Sample Output 2\n",
    "\n",
    "2 3 3 4 4 5\n",
    "\n",
    "## Explanation 2\n",
    "\n",
    "Here, the minimum difference is 1. Valid pairs are (2, 3), (3, 4), and (4, 5).\n"
   ]
  },
  {
   "cell_type": "code",
   "execution_count": 31,
   "metadata": {},
   "outputs": [
    {
     "data": {
      "text/plain": [
       "[-7330761, -6461594, 266854, 6246457]"
      ]
     },
     "execution_count": 31,
     "metadata": {},
     "output_type": "execute_result"
    }
   ],
   "source": [
    "def closestNumbers(arr):\n",
    "\n",
    "  # Its important to sort otherwise this method doesnt work \n",
    "  arr.sort() \n",
    "  n = len(arr)\n",
    "\n",
    "  # account for small array \n",
    "  if n <= 1: return arr\n",
    "\n",
    "  # we can calulate the minimum as being the first two values absolute value. \n",
    "  minimum = abs(arr[0]-arr[1])\n",
    "  solution = []\n",
    "  for i in range(n-1):\n",
    "   diff = abs(arr[i]-arr[i+1])\n",
    "   minimum = min(minimum, diff) \n",
    "\n",
    "\n",
    "  for j in range(n-1):\n",
    "    if(abs(arr[j] - arr[j+1]) == minimum):\n",
    "      solution.append(arr[j])\n",
    "      solution.append(arr[j+1])\n",
    "\n",
    "  return solution\n",
    "\n",
    "# closestNumbers([5,2,3,4,1])\n",
    "closestNumbers([-20,-3916237,-357920,-3620601,7374819,-7330761,30,6246457,-6461594,266854])"
   ]
  }
 ],
 "metadata": {
  "kernelspec": {
   "display_name": "Python 3.10.5 64-bit",
   "language": "python",
   "name": "python3"
  },
  "language_info": {
   "codemirror_mode": {
    "name": "ipython",
    "version": 3
   },
   "file_extension": ".py",
   "mimetype": "text/x-python",
   "name": "python",
   "nbconvert_exporter": "python",
   "pygments_lexer": "ipython3",
   "version": "3.10.5"
  },
  "orig_nbformat": 4,
  "vscode": {
   "interpreter": {
    "hash": "02b609bbcdd864eb197a8e44871ca339be22f8bca8c512160584e8c1631bb079"
   }
  }
 },
 "nbformat": 4,
 "nbformat_minor": 2
}
