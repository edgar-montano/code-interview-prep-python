{
 "cells": [
  {
   "cell_type": "markdown",
   "metadata": {},
   "source": [
    "# 1480. Running Sum of 1d Array\n",
    "\n",
    "**Given an array nums. We define a running sum of an array as \n",
    "$runningSum[i] = sum(nums[0]…nums[i])$.**\n",
    "\n",
    "_Return the running sum of nums._\n",
    "\n",
    "# Examples\n",
    "\n",
    "## Example 1:\n",
    "\n",
    "Input: nums = [1,2,3,4]\n",
    "Output: [1,3,6,10]\n",
    "Explanation: Running sum is obtained as follows: $[1, 1+2, 1+2+3, 1+2+3+4]$.\n",
    "\n",
    "## Example 2:\n",
    "\n",
    "Input: nums = [1,1,1,1,1]\n",
    "Output: [1,2,3,4,5]\n",
    "Explanation: Running sum is obtained as follows: $[1, 1+1, 1+1+1, 1+1+1+1, 1+1+1+1+1]$.\n",
    "\n",
    "## Example 3:\n",
    "\n",
    "Input: nums = [3,1,2,10,1]\n",
    "Output: [3,4,6,16,17]\n",
    "\n",
    "# Constraints:\n",
    "\n",
    "1 <= nums.length <= 1000\n",
    "-10^6 <= nums[i] <= 10^6\n",
    "\n",
    "_hint: Think about how we can calculate the i-th number in the running sum from the (i-1)-th number._\n"
   ]
  },
  {
   "cell_type": "code",
   "execution_count": 32,
   "metadata": {},
   "outputs": [
    {
     "name": "stdout",
     "output_type": "stream",
     "text": [
      "[1, 3, 6, 10]\n",
      "[1, 2, 3, 4, 5]\n",
      "[3, 4, 6, 16, 17]\n"
     ]
    }
   ],
   "source": [
    "\n",
    "\n",
    "def runningSum(nums):\n",
    "  \"\"\"\n",
    "  :type nums: List[int]\n",
    "  :rtype: List[int]\n",
    "  \"\"\"\n",
    "  rtype = [] \n",
    "  n = len(nums)\n",
    "  s = 0 \n",
    "  for i in nums:\n",
    "    s += i \n",
    "    rtype.append(s)\n",
    "    \n",
    "  return rtype\n",
    "  \n",
    "\n",
    "def runningSums(nums):\n",
    "  \"\"\"Same solution as above but less lines \n",
    "  \"\"\"\n",
    "  rtype = []\n",
    "  for i in range(len(nums)):\n",
    "    rtype.append(sum(nums[:i]))\n",
    "  return rtype\n",
    "\n",
    "\n",
    "runningSum([1,2,3,4]) #  => [1,3,6,10] \n",
    "runningSum([1,1,1,1,1]) #  => [1,2,3,4,5]\n",
    "runningSum([3,1,2,10,1]) # => [3,4,6,16,17]"
   ]
  }
 ],
 "metadata": {
  "kernelspec": {
   "display_name": "Python 3.10.5 64-bit",
   "language": "python",
   "name": "python3"
  },
  "language_info": {
   "codemirror_mode": {
    "name": "ipython",
    "version": 3
   },
   "file_extension": ".py",
   "mimetype": "text/x-python",
   "name": "python",
   "nbconvert_exporter": "python",
   "pygments_lexer": "ipython3",
   "version": "3.10.5"
  },
  "orig_nbformat": 4,
  "vscode": {
   "interpreter": {
    "hash": "02b609bbcdd864eb197a8e44871ca339be22f8bca8c512160584e8c1631bb079"
   }
  }
 },
 "nbformat": 4,
 "nbformat_minor": 2
}
