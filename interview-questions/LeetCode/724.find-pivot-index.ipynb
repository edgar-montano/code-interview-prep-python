{
 "cells": [
  {
   "cell_type": "markdown",
   "metadata": {},
   "source": [
    "# 724. Find Pivot Index\n",
    "\n",
    "**Given an array of integers nums, calculate the pivot index of this array.\n",
    "**\n",
    "\n",
    "The **pivot index** is _the index_ where the _sum_ of all the numbers strictly to the _left_ of the index is **equal** to the sum of all the numbers strictly to the index's _right_.\n",
    "\n",
    "**If the index** is on the _left edge_ of the array, then the **left sum is 0** because _there are no elements to the left_. This **also applies to the right edge** of the array.\n",
    "\n",
    "Return the **leftmost pivot index**.\n",
    "If no such index exists, **return -1.**\n",
    "\n",
    "# Examples\n",
    "\n",
    "## Example 1:\n",
    "\n",
    "Input: nums = [1,7,3,6,5,6]\n",
    "Output: 3\n",
    "Explanation:\n",
    "The pivot index is 3.\n",
    "Left sum = nums[0] + nums[1] + nums[2] = 1 + 7 + 3 = 11\n",
    "Right sum = nums[4] + nums[5] = 5 + 6 = 11\n",
    "\n",
    "## Example 2:\n",
    "\n",
    "Input: nums = [1,2,3]\n",
    "Output: -1\n",
    "Explanation:\n",
    "There is no index that satisfies the conditions in the problem statement.\n",
    "\n",
    "## Example 3:\n",
    "\n",
    "Input: nums = [2,1,-1]\n",
    "Output: 0\n",
    "Explanation:\n",
    "The pivot index is 0.\n",
    "Left sum = 0 (no elements to the left of index 0)\n",
    "Right sum = nums[1] + nums[2] = 1 + -1 = 0\n",
    "\n",
    "# Constraints:\n",
    "\n",
    "1 <= nums.length <= 104\n",
    "-1000 <= nums[i] <= 1000\n",
    "\n",
    "Note: This question is the same as 1991: https://leetcode.com/problems/find-the-middle-index-in-array/\n",
    "\n",
    "_hint: We can precompute prefix sums P[i] = nums[0] + nums[1] + ... + nums[i-1]. Then for each index, the left sum is P[i], and the right sum is P[P.length - 1] - P[i] - nums[i]._\n"
   ]
  },
  {
   "cell_type": "code",
   "execution_count": 8,
   "metadata": {},
   "outputs": [
    {
     "name": "stdout",
     "output_type": "stream",
     "text": [
      "3\n",
      "-1\n",
      "0\n"
     ]
    }
   ],
   "source": [
    "def pivotIndex(nums):\n",
    "  \"\"\"\n",
    "  :type nums: List[int]\n",
    "  :rtype: int\n",
    "  \"\"\"\n",
    "\n",
    "print(pivotIndex([1,7,3,6,5,6])) # => 3       \n",
    "print(pivotIndex([1,2,3])) # => -1        \n",
    "print(pivotIndex([2,1,-1])) # => 0     "
   ]
  },
  {
   "cell_type": "code",
   "execution_count": null,
   "metadata": {},
   "outputs": [],
   "source": []
  }
 ],
 "metadata": {
  "kernelspec": {
   "display_name": "Python 3.10.5 64-bit",
   "language": "python",
   "name": "python3"
  },
  "language_info": {
   "codemirror_mode": {
    "name": "ipython",
    "version": 3
   },
   "file_extension": ".py",
   "mimetype": "text/x-python",
   "name": "python",
   "nbconvert_exporter": "python",
   "pygments_lexer": "ipython3",
   "version": "3.10.5"
  },
  "orig_nbformat": 4,
  "vscode": {
   "interpreter": {
    "hash": "02b609bbcdd864eb197a8e44871ca339be22f8bca8c512160584e8c1631bb079"
   }
  }
 },
 "nbformat": 4,
 "nbformat_minor": 2
}
