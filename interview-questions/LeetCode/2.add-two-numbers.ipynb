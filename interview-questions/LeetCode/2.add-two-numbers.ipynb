{
 "cells": [
  {
   "cell_type": "code",
   "execution_count": null,
   "metadata": {},
   "outputs": [],
   "source": [
    "# 2. Add Two Numbers\n",
    "\n",
    "\n",
    "You are given two non-empty linked lists representing two non-negative integers. The digits are stored in reverse order, and each of their nodes contains a single digit. Add the two numbers and return the sum as a linked list.\n",
    "\n",
    "You may assume the two numbers do not contain any leading zero, except the number 0 itself.\n",
    "\n",
    " \n",
    "\n",
    "Example 1:\n",
    "\n",
    "Input: l1 = [2,4,3], l2 = [5,6,4]\n",
    "Output: [7,0,8]\n",
    "Explanation: 342 + 465 = 807.\n",
    "\n",
    "\n",
    "Example 2:\n",
    "\n",
    "Input: l1 = [0], l2 = [0]\n",
    "Output: [0]\n",
    "\n",
    "\n",
    "Example 3:\n",
    "\n",
    "Input: l1 = [9,9,9,9,9,9,9], l2 = [9,9,9,9]\n",
    "Output: [8,9,9,9,0,0,0,1]\n",
    "\n",
    "\n",
    " \n",
    "\n",
    "Constraints:\n",
    "\n",
    "The number of nodes in each linked list is in the range [1, 100].\n",
    "0 <= Node.val <= 9\n",
    "It is guaranteed that the list represents a number that does not have leading zeros.\n",
    "Accepted\n",
    "2,934,146\n",
    "Submissions\n",
    "7,501,962\n",
    "Seen this question in a real interview before?\n",
    "Yes\n",
    "No\n",
    "Companies\n",
    "Related Topics\n",
    "Linked ListMathRecursion\n",
    "Similar Questions\n",
    "Multiply Strings\n",
    "Medium\n",
    "Add Binary\n",
    "Easy\n",
    "Sum of Two Integers\n",
    "Medium\n",
    "Add Strings\n",
    "Easy\n",
    "Add Two Numbers II\n",
    "Medium\n",
    "Add to Array-Form of Integer\n",
    "Easy\n",
    "Add Two Polynomials Represented as Linked Lists\n",
    "Medium"
   ]
  }
 ],
 "metadata": {
  "kernelspec": {
   "display_name": "Python 3.9.13 64-bit (windows store)",
   "language": "python",
   "name": "python3"
  },
  "language_info": {
   "name": "python",
   "version": "3.9.13"
  },
  "orig_nbformat": 4,
  "vscode": {
   "interpreter": {
    "hash": "efcd632c46406e2719bb1bf29d1ad971d0c6fb4cf8bf0f568459535fb6a30bde"
   }
  }
 },
 "nbformat": 4,
 "nbformat_minor": 2
}
