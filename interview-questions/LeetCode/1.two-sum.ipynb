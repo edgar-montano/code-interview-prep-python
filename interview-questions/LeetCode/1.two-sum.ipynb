{
 "cells": [
  {
   "cell_type": "markdown",
   "metadata": {},
   "source": [
    "# Two Sum\n",
    "[HackerRank - Two Sum](https://leetcode.com/problems/two-sum/)\n",
    "\n",
    "Given an **array** of *integers* nums and an integer **target**, return **indices** of the **two numbers** such that they add up to **target.**\n",
    "*\n",
    "You may assume that each input would have exactly one solution, and you may **not** use the **same element twice**.\n",
    "\n",
    "You can return the answer in any order.\n",
    "\n",
    "\n",
    "## Example 1 \n",
    "```\n",
    "Input: nums = [2,7,11,15], target = 9\n",
    "Output: [0,1]\n",
    "Explanation: Because nums[0] + nums[1] == 9, we return [0, 1].\n",
    "```\n",
    "\n",
    "## Example 2 \n",
    "```\n",
    "Input: nums = [3,2,4], target = 6\n",
    "Output: [1,2]\n",
    "```\n",
    "\n",
    "## Example 3 \n",
    "```\n",
    "Input: nums = [3,3], target = 6\n",
    "Output: [0,1]\n",
    "```\n",
    "\n",
    "## Constraints \n",
    "- $2 <= nums.length <= 10^4$\n",
    "- $-10^9 <= nums[i] <= 10^9$\n",
    "- $-10^9 <= target <= 10^9$\n",
    "- **Only one valid answer exists**\n",
    "\n",
    "## Follow up \n",
    "*Can you come up with an algorithm that is less than $O(n^2)$ time complexity?*\n"
   ]
  },
  {
   "cell_type": "code",
   "execution_count": 34,
   "metadata": {},
   "outputs": [
    {
     "name": "stdout",
     "output_type": "stream",
     "text": [
      "[2, 1]\n",
      "[4, 0]\n"
     ]
    }
   ],
   "source": [
    "def twoSum(nums, target):\n",
    "  \"\"\"\n",
    "  non-optimal solution \n",
    "  Big-O Analysis O(n^2)\n",
    "  Return the indices of two integers such that if we add them up, we get the specified target value. \n",
    "  Args:\n",
    "      nums (List[int]): a list of ints where nums[i] will be a value between -10^9 and 10^9  \n",
    "      target (int): target value in range of -10^9 to 10^9\n",
    "  \"\"\"\n",
    "\n",
    "  for i in range(len(nums)):\n",
    "    for j in range(len(nums)):\n",
    "      if nums[i] + nums[j] == target and nums[i] != nums[j]:\n",
    "        return [i,j]\n",
    "\n",
    "def twoSum(nums, target):\n",
    "  \"\"\"\n",
    "  Modified version of above \n",
    "  Still pretty bad in terms of performance. \n",
    "  \"\"\"\n",
    "  for i in range(len(nums)):\n",
    "    diff = target - nums[i] \n",
    "    if diff in nums:\n",
    "      return [i, nums.index(diff)]\n",
    "\n",
    "def twoSum(nums, target):\n",
    "  \"\"\"O(n)\n",
    "  get the difference, store in hash table for O(1) look up. \n",
    "  \"\"\"\n",
    "  s = dict()  \n",
    "  for i in range(len(nums)):\n",
    "    diff = target - nums[i]\n",
    "    if diff in s:\n",
    "      return [i, s[diff]]\n",
    "    else:\n",
    "      # we want to store the value of the index to a index\n",
    "      s[nums[i]]=i\n",
    "\n",
    "\n",
    "\n",
    "print(twoSum([2,8,12,15], 20))\n",
    "print(twoSum([-1,2,-4,4,5],4))"
   ]
  }
 ],
 "metadata": {
  "kernelspec": {
   "display_name": "Python 3.10.5 64-bit",
   "language": "python",
   "name": "python3"
  },
  "language_info": {
   "codemirror_mode": {
    "name": "ipython",
    "version": 3
   },
   "file_extension": ".py",
   "mimetype": "text/x-python",
   "name": "python",
   "nbconvert_exporter": "python",
   "pygments_lexer": "ipython3",
   "version": "3.10.5"
  },
  "orig_nbformat": 4,
  "vscode": {
   "interpreter": {
    "hash": "02b609bbcdd864eb197a8e44871ca339be22f8bca8c512160584e8c1631bb079"
   }
  }
 },
 "nbformat": 4,
 "nbformat_minor": 2
}
